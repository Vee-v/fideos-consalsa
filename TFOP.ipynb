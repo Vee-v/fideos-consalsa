{
 "cells": [
  {
   "cell_type": "code",
   "execution_count": 1,
   "id": "37d2559c",
   "metadata": {},
   "outputs": [],
   "source": [
    "import matplotlib.pyplot as plt\n",
    "import pandas as pd\n",
    "import numpy as np\n",
    "import matplotlib.dates as mdates\n",
    "from astropy import units as u\n",
    "from astropy.coordinates import SkyCoord , Angle, get_sun, EarthLocation, AltAz, get_moon\n",
    "from astropy.coordinates.erfa_astrom import erfa_astrom, ErfaAstromInterpolator\n",
    "from astropy.time import Time, TimeDelta\n",
    "from datetime import datetime"
   ]
  },
  {
   "cell_type": "markdown",
   "id": "404cb3c6",
   "metadata": {},
   "source": [
    "# Pasos para elegir targets"
   ]
  },
  {
   "cell_type": "markdown",
   "id": "1651ca6d",
   "metadata": {},
   "source": [
    "### Descargar la última iteración de la lista de TOIs\n",
    "#### Ordenar de más reciente a más antiguo\n",
    "### Se solicita información de ephemerides para ver si son observables por FIDEOS??\n",
    "### Se filtra por magnitud < 12"
   ]
  },
  {
   "cell_type": "markdown",
   "id": "1338b57f",
   "metadata": {},
   "source": [
    "# 1. Descargar la ultima iteracion de la lista de TOIs"
   ]
  },
  {
   "cell_type": "code",
   "execution_count": 2,
   "id": "8ac1311a",
   "metadata": {},
   "outputs": [
    {
     "name": "stdout",
     "output_type": "stream",
     "text": [
      "Downloading the latest TOI list...\n",
      "Download finished!\n",
      "Number of TOIs: 6119\n"
     ]
    }
   ],
   "source": [
    "print(\"Downloading the latest TOI list...\")\n",
    "url=\"https://exofop.ipac.caltech.edu/tess/download_toi.php?sort=toi&output=pipe\"\n",
    "TOI_df=pd.read_csv(url, delimiter='|', index_col=1)\n",
    "print(\"Download finished!\")\n",
    "\n",
    "print(\"Number of TOIs:\", len(TOI_df))"
   ]
  },
  {
   "cell_type": "markdown",
   "id": "545b216f",
   "metadata": {},
   "source": [
    "# 2. Ephemerides"
   ]
  },
  {
   "cell_type": "code",
   "execution_count": 3,
   "id": "de15967d",
   "metadata": {},
   "outputs": [],
   "source": [
    "# Creamos un dataframe con PCs y APCs con TESS mag <= 10.\n",
    "bool_mask = TOI_df['TESS Mag'] <= 10\n",
    "TOI_dfMag = TOI_df[bool_mask]\n",
    "bool_mask = TOI_dfMag['TFOPWG Disposition'] == 'PC'\n",
    "TOI_dfPC = TOI_dfMag[bool_mask]\n",
    "bool_mask = TOI_dfMag['TFOPWG Disposition'] == 'APC'\n",
    "TOI_dfAPC = TOI_dfMag[bool_mask]\n",
    "TOI_df = pd.concat([TOI_dfPC, TOI_dfAPC])\n",
    "TOI_df['Date TOI Alerted (UTC)'] = pd.to_datetime(TOI_df['Date TOI Alerted (UTC)'])\n",
    "TOI_df = TOI_df.sort_values(by='Date TOI Alerted (UTC)', ascending=False)"
   ]
  },
  {
   "cell_type": "code",
   "execution_count": 4,
   "id": "d5f1ff24",
   "metadata": {},
   "outputs": [
    {
     "name": "stdout",
     "output_type": "stream",
     "text": [
      "Number of TOIs PCs and APCs under TESS mag 10: 677\n"
     ]
    }
   ],
   "source": [
    "print(\"Number of TOIs PCs and APCs under TESS mag 10:\", len(TOI_df))"
   ]
  },
  {
   "cell_type": "code",
   "execution_count": 5,
   "id": "79a2e660",
   "metadata": {},
   "outputs": [],
   "source": [
    "# we save the original array for masking later\n",
    "TOI_og = TOI_df"
   ]
  },
  {
   "cell_type": "markdown",
   "id": "746e947b",
   "metadata": {},
   "source": [
    "### Tenemos que definir la observing time, dado la posicion del Sol en la Silla y una fecha."
   ]
  },
  {
   "cell_type": "code",
   "execution_count": 6,
   "id": "822cf215",
   "metadata": {},
   "outputs": [],
   "source": [
    "date_input = '2022-11-28'\n",
    "date = date_input.split('-')"
   ]
  },
  {
   "cell_type": "code",
   "execution_count": 7,
   "id": "2d9f3ae6",
   "metadata": {},
   "outputs": [],
   "source": [
    "times = Time(datetime(int(date[0]), int(date[1]), int(date[2]), 23, 59, 0))+np.linspace(-6, 9, 901)* u.hour"
   ]
  },
  {
   "cell_type": "markdown",
   "id": "2ee2e796",
   "metadata": {},
   "source": [
    "Ahora se busca el momento donde el sol cruza los -18° de altitud desde la posicion en La Silla"
   ]
  },
  {
   "cell_type": "code",
   "execution_count": 8,
   "id": "714ba91a",
   "metadata": {},
   "outputs": [],
   "source": [
    "laSilla = EarthLocation.from_geodetic(-70.7375, -29.2575,[2347])\n",
    "sunPos = get_sun(times)\n",
    "aaFrame = AltAz(obstime=times, location=laSilla)"
   ]
  },
  {
   "cell_type": "code",
   "execution_count": 9,
   "id": "dbcfc83d",
   "metadata": {},
   "outputs": [],
   "source": [
    "aa_sunPos = sunPos.transform_to(aaFrame) "
   ]
  },
  {
   "cell_type": "markdown",
   "id": "63160025",
   "metadata": {},
   "source": [
    "### Buscamos el tiempo donde el sol llega a los -12° y -18"
   ]
  },
  {
   "cell_type": "code",
   "execution_count": 10,
   "id": "27b4e8f6",
   "metadata": {},
   "outputs": [],
   "source": [
    "begin = np.argmax(aa_sunPos.alt.value < -12)\n",
    "end = np.argmax(np.flip(aa_sunPos.alt).value < -18)"
   ]
  },
  {
   "cell_type": "code",
   "execution_count": 11,
   "id": "0dc9a0a7",
   "metadata": {},
   "outputs": [],
   "source": [
    "twiBegin = times[begin]\n",
    "twiEnd = np.flip(times)[end]"
   ]
  },
  {
   "cell_type": "code",
   "execution_count": 12,
   "id": "27fd983b",
   "metadata": {},
   "outputs": [
    {
     "name": "stdout",
     "output_type": "stream",
     "text": [
      "2022-11-29 00:25:00\n"
     ]
    }
   ],
   "source": [
    "print(twiBegin)"
   ]
  },
  {
   "cell_type": "code",
   "execution_count": 13,
   "id": "3577526e",
   "metadata": {},
   "outputs": [
    {
     "name": "stdout",
     "output_type": "stream",
     "text": [
      "2022-11-29 08:03:00\n"
     ]
    }
   ],
   "source": [
    "print(twiEnd)"
   ]
  },
  {
   "cell_type": "markdown",
   "id": "70c48df2",
   "metadata": {},
   "source": [
    "Ahora que tenemos la hora de inicio y de termino del twilight, tenemos el tiempo para calcular efemerides de luna y targets."
   ]
  },
  {
   "cell_type": "code",
   "execution_count": 14,
   "id": "1841561a",
   "metadata": {},
   "outputs": [
    {
     "name": "stderr",
     "output_type": "stream",
     "text": [
      "WARNING: TimeDeltaMissingUnitWarning: Numerical value without unit or explicit format passed to TimeDelta, assuming days [astropy.time.core]\n"
     ]
    }
   ],
   "source": [
    "obsTimeDelta = twiEnd + .5*u.hour - (twiBegin - .5*u.hour)\n",
    "obsTimeDelta = TimeDelta((obsTimeDelta.value * 24 // 1) / 24)\n",
    "steps = int(np.round(obsTimeDelta.sec,0) / 60)\n",
    "obsDateTime = twiBegin - .5*u.hour + obsTimeDelta * np.linspace(0, 1, steps+1)"
   ]
  },
  {
   "cell_type": "code",
   "execution_count": 15,
   "id": "22b0fe38",
   "metadata": {},
   "outputs": [],
   "source": [
    "# Marco AltAz de La Silla\n",
    "aaFrame = AltAz(obstime=obsDateTime, location=laSilla)"
   ]
  },
  {
   "cell_type": "code",
   "execution_count": 16,
   "id": "3b3ed0bb",
   "metadata": {},
   "outputs": [],
   "source": [
    "# Efemerides Luna\n",
    "moonPos = get_moon(obsDateTime, laSilla)\n",
    "aa_moonPos = moonPos.transform_to(aaFrame) "
   ]
  },
  {
   "cell_type": "code",
   "execution_count": 17,
   "id": "4be30dcd",
   "metadata": {},
   "outputs": [
    {
     "name": "stderr",
     "output_type": "stream",
     "text": [
      "D:\\miniconda3\\envs\\tfopFideos\\lib\\site-packages\\erfa\\core.py:4613: RuntimeWarning: invalid value encountered in ld\n",
      "  p1 = ufunc.ld(bm, p, q, e, em, dlim)\n",
      "D:\\miniconda3\\envs\\tfopFideos\\lib\\site-packages\\erfa\\core.py:19005: RuntimeWarning: invalid value encountered in anp\n",
      "  c_retval = ufunc.anp(a)\n",
      "D:\\miniconda3\\envs\\tfopFideos\\lib\\site-packages\\erfa\\core.py:4029: RuntimeWarning: invalid value encountered in atioq\n",
      "  aob, zob, hob, dob, rob = ufunc.atioq(ri, di, astrom)\n"
     ]
    },
    {
     "data": {
      "image/png": "[encoded data removed]",
      "text/plain": [
       "<Figure size 640x480 with 2 Axes>"
      ]
     },
     "metadata": {},
     "output_type": "display_data"
    }
   ],
   "source": [
    "fig, ax = plt.subplots()\n",
    "# We plot the datetime in a readable format\n",
    "\n",
    "plt.gca().xaxis.set_major_locator(mdates.HourLocator())\n",
    "plt.gca().xaxis.set_major_formatter(mdates.ConciseDateFormatter(mdates.HourLocator()))\n",
    "\n",
    "# We plot the astronomical twilight beginning and ending\n",
    "indexBegin = np.argmax(obsDateTime == twiBegin)\n",
    "indexEnd = np.argmax(obsDateTime == twiEnd)\n",
    "plt.axvline(obsDateTime[indexBegin].value, color = 'b')\n",
    "if indexEnd != 0:\n",
    "    plt.axvline(obsDateTime[indexEnd].value, color = 'b')\n",
    "# We plot the moon Alt\n",
    "ax.plot(obsDateTime.plot_date, aa_moonPos.alt, ls='-.', color=\"red\", lw=.6)\n",
    "ax.set_ylabel('Alt (deg)')\n",
    "ax.set_ylim([0,90])\n",
    "#plot targets\n",
    "aa_targetIndex = np.array([])\n",
    "x = 0\n",
    "while x < 150:\n",
    "    targetPos = SkyCoord(ra=TOI_df['RA'].iloc[x], dec=TOI_df['Dec'].iloc[x], \n",
    "                         distance=TOI_df['Stellar Distance (pc)'].iloc[x] ,\n",
    "                         unit=(u.hourangle, u.deg, u.pc), obstime=obsDateTime)\n",
    "    with erfa_astrom.set(ErfaAstromInterpolator(int(steps/60) * u.hour)): \n",
    "        temp = targetPos.transform_to(aaFrame)\n",
    "        if np.array([temp.alt.value>=50]).sum() >= 60:\n",
    "            aa_targetIndex = np.append(aa_targetIndex, x)\n",
    "            ax.plot(obsDateTime.plot_date, temp.alt, ls='--', color=\"black\", lw=.5)\n",
    "    x += 1 \n",
    "# Airmass axis\n",
    "altitude_ticks = np.array([20, 30, 40, 50, 60, 90])\n",
    "airmass_ticks = np.round(1./np.cos(np.radians(90 - altitude_ticks)),1)\n",
    "ax2 = ax.twinx()\n",
    "ax2.set_yticks(altitude_ticks)\n",
    "ax2.set_yticklabels(airmass_ticks)\n",
    "ax2.set_ylim(ax.get_ylim())\n",
    "ax2.set_ylabel('Airmass')\n",
    "ax2.grid()\n",
    "#\n",
    "plt.gcf().autofmt_xdate()\n",
    "plt.show()"
   ]
  },
  {
   "cell_type": "code",
   "execution_count": 145,
   "id": "6d7f3ae6",
   "metadata": {},
   "outputs": [],
   "source": [
    "observable_df = pd.DataFrame(columns=TOI_og.columns)\n",
    "x = 0\n",
    "while x < len(aa_targetIndex):\n",
    "    index = int(aa_targetIndex[x])\n",
    "    observable_df = pd.concat([observable_df, TOI_og.iloc[index:index+1]])\n",
    "    x += 1"
   ]
  },
  {
   "cell_type": "code",
   "execution_count": 20,
   "id": "088d4bba",
   "metadata": {},
   "outputs": [],
   "source": [
    "header = ['TIC ID', 'RA', 'Dec']\n",
    "observable_df.to_csv(date_input+'.csv', columns = header, sep =' ', index=False)\n",
    "observable_df.to_csv(date_input+'-full-info.csv')"
   ]
  },
  {
   "cell_type": "markdown",
   "id": "b1705e15",
   "metadata": {},
   "source": [
    "# CODIGO BACAN"
   ]
  },
  {
   "cell_type": "code",
   "execution_count": 26,
   "id": "c1210d8e",
   "metadata": {},
   "outputs": [
    {
     "name": "stdout",
     "output_type": "stream",
     "text": [
      "Downloading the latest TOI list...\n",
      "Download finished!\n",
      "Number of TOIs: 6137\n",
      "Number of TOIs PCs and APCs under TESS mag 10: 685\n",
      "Choose de number of days to simulate:\n",
      "90\n",
      "Choose a CLT wednesday for when to start the simulation with the format\n",
      " yyyy-mm-dd:\n",
      "2022-12-28\n",
      "The following targets will not be considered for observations\n",
      "TIC149539158\n",
      "TIC220414682\n"
     ]
    },
    {
     "name": "stderr",
     "output_type": "stream",
     "text": [
      "WARNING: TimeDeltaMissingUnitWarning: Numerical value without unit or explicit format passed to TimeDelta, assuming days [astropy.time.core]\n",
      "D:\\miniconda3\\envs\\tfopFideos\\lib\\site-packages\\erfa\\core.py:4613: RuntimeWarning: invalid value encountered in ld\n",
      "  p1 = ufunc.ld(bm, p, q, e, em, dlim)\n",
      "D:\\miniconda3\\envs\\tfopFideos\\lib\\site-packages\\erfa\\core.py:19005: RuntimeWarning: invalid value encountered in anp\n",
      "  c_retval = ufunc.anp(a)\n",
      "D:\\miniconda3\\envs\\tfopFideos\\lib\\site-packages\\erfa\\core.py:4029: RuntimeWarning: invalid value encountered in atioq\n",
      "  aob, zob, hob, dob, rob = ufunc.atioq(ri, di, astrom)\n"
     ]
    },
    {
     "name": "stdout",
     "output_type": "stream",
     "text": [
      "Simulation done! Now starting the optimization process...\n"
     ]
    }
   ],
   "source": [
    "print(\"Downloading the latest TOI list...\")\n",
    "url=\"https://exofop.ipac.caltech.edu/tess/download_toi.php?sort=toi&output=pipe\"\n",
    "TOI_df=pd.read_csv(url, delimiter='|', index_col=1)\n",
    "print(\"Download finished!\")\n",
    "\n",
    "print(\"Number of TOIs:\", len(TOI_df))\n",
    "\n",
    "# Creamos un dataframe con PCs y APCs con TESS mag <= 10.\n",
    "bool_mask = TOI_df['TESS Mag'] <= 10\n",
    "TOI_dfMag = TOI_df[bool_mask]\n",
    "bool_mask = TOI_dfMag['TFOPWG Disposition'] == 'PC'\n",
    "TOI_dfPC = TOI_dfMag[bool_mask]\n",
    "bool_mask = TOI_dfMag['TFOPWG Disposition'] == 'APC'\n",
    "TOI_dfAPC = TOI_dfMag[bool_mask]\n",
    "TOI_df = pd.concat([TOI_dfPC, TOI_dfAPC])\n",
    "TOI_df['Date TOI Alerted (UTC)'] = pd.to_datetime(TOI_df['Date TOI Alerted (UTC)'])\n",
    "TOI_df = TOI_df.sort_values(by='Date TOI Alerted (UTC)', ascending=False)\n",
    "print(\"Number of TOIs PCs and APCs under TESS mag 10:\", len(TOI_df))\n",
    "# Comienza el ciclo\n",
    "days_range = input('Choose de number of days to simulate:\\n')\n",
    "days_range = int(days_range)\n",
    "date_input = input('Choose a CLT wednesday for when to start the simulation with the format\\n yyyy-mm-dd:\\n')\n",
    "date = date_input.split('-')\n",
    "laSilla = EarthLocation.from_geodetic(-70.7375, -29.2575,[2347])\n",
    "with open('nightStartTime.txt', 'w') as f:\n",
    "    pass\n",
    "    # Creates the text file or cleans it\n",
    "with open('dontObserve.txt', 'r') as f:\n",
    "    dontObserve = [line.rstrip() for line in f]\n",
    "print('The following targets will not be considered for observations')\n",
    "for i in dontObserve:\n",
    "    print(i)\n",
    "    # Reads the target names that won't be observed.\n",
    "contador = 0\n",
    "for day in range(days_range):\n",
    "    if not((day % 7 == 0 or (day + 2) % 7 == 0 or (day + 5) % 7 == 0) or (day + 3) % 7 == 0):\n",
    "        continue   \n",
    "    times = Time(datetime(int(date[0]), int(date[1]), int(date[2]), 23, 59, 0)) + day*u.day + np.linspace(-6, 9, 901)* u.hour\n",
    "    # Ahora se busca el momento donde el sol cruza los -18° de altitud desde la posicion en La Silla\n",
    "    \n",
    "    sunPos = get_sun(times)\n",
    "    aaFrame = AltAz(obstime=times, location=laSilla)\n",
    "    aa_sunPos = sunPos.transform_to(aaFrame) \n",
    "    begin = np.argmax(aa_sunPos.alt.value < -12)\n",
    "    end = np.argmax(np.flip(aa_sunPos.alt).value < -18)\n",
    "    twiBegin = times[begin]\n",
    "    twiEnd = np.flip(times)[end]\n",
    "    # Ahora que tenemos la hora de inicio y de termino del twilight, tenemos el tiempo para calcular efemerides de luna y targets.\n",
    "    obsTimeDelta = twiEnd + .5*u.hour - (twiBegin - .5*u.hour)\n",
    "    obsTimeDelta = TimeDelta((obsTimeDelta.value * 24 // 1) / 24)\n",
    "    steps = int(np.round(obsTimeDelta.sec,0) / 60)\n",
    "    obsDateTime = twiBegin - .5*u.hour + obsTimeDelta * np.linspace(0, 1, steps+1)\n",
    "    with open('nightStartTime.txt', 'a') as f:\n",
    "        f.write(str(day)+'|'+\n",
    "                str(obsDateTime[0].datetime.year)+'|'+\n",
    "                str(obsDateTime[0].datetime.month)+'|'+\n",
    "                str(obsDateTime[0].datetime.day)+'|'+\n",
    "                str(obsDateTime[0].datetime.hour)+'|'+\n",
    "                str(obsDateTime[0].datetime.minute)+'\\n'\n",
    "               )\n",
    "    # Marco AltAz de La Silla\n",
    "    aaFrame = AltAz(obstime=obsDateTime, location=laSilla)\n",
    "    # Efemerides Luna\n",
    "    moonPos = get_moon(obsDateTime, laSilla)\n",
    "    aa_moonPos = moonPos.transform_to(aaFrame) \n",
    "    # Indices de muestreo para la altura del target cada una hora\n",
    "    samplingIndexes=np.linspace(30, steps-30, int(steps/60), dtype=int)\n",
    "    sampledOutput = np.zeros([len(TOI_df), int(steps/60)])\n",
    "    y = 0\n",
    "    for target in TOI_df.iloc:\n",
    "        targetPos = SkyCoord(ra=target['RA'], dec=target['Dec'], distance=target['Stellar Distance (pc)'] ,\n",
    "                             unit=(u.hourangle, u.deg, u.pc), obstime=obsDateTime)\n",
    "        with erfa_astrom.set(ErfaAstromInterpolator(int(steps/60) * u.hour)): \n",
    "            temp = targetPos.transform_to(aaFrame)\n",
    "            if np.array([temp.alt.value>=50]).sum() >= 60 and target['SG2'] <= 3 and not(target['TIC ID'] in dontObserve):\n",
    "                # Si el target esta sobre 50 grados por 1 hora o mas, se muestrea cada 1 hora.\n",
    "                x = 0\n",
    "                for i in samplingIndexes:\n",
    "                    # Si no esta sobre 50 grados por 1 hora minimo, no se rellena.\n",
    "                    sampledOutput[y][x] = temp[i].alt.value\n",
    "                    x += 1\n",
    "        y += 1\n",
    "    print(f'Simulating nights: {np.round(day+1 * 100 /91, 2)}%', end=\"\\r\", flush=True)\n",
    "    pd.DataFrame(sampledOutput).to_csv(f\"data{contador}.csv\", index=False, header=False)\n",
    "    contador += 1\n",
    "with open('specObservations.txt', 'w') as f:\n",
    "    pass\n",
    "with open('specObservations.txt', 'a') as f:\n",
    "    for target in TOI_df.iloc:\n",
    "        f.write(str(target['TIC ID'])+'|'+str(target['Spectroscopy Observations'])+\\\n",
    "                '|'+str(target['SG2'])+'|'+str(target['Period (days)'])+'\\n')\n",
    "print('Simulation done! Now starting the optimization process...')"
   ]
  },
  {
   "cell_type": "markdown",
   "id": "970bb368",
   "metadata": {},
   "source": [
    "# END CODIGO BACAN"
   ]
  },
  {
   "cell_type": "code",
   "execution_count": 24,
   "id": "7121b725",
   "metadata": {},
   "outputs": [
    {
     "name": "stdout",
     "output_type": "stream",
     "text": [
      "0 W\n",
      "5 M\n",
      "7 W\n",
      "12 M\n",
      "14 W\n",
      "19 M\n",
      "21 W\n",
      "26 M\n",
      "28 W\n",
      "33 M\n",
      "35 W\n",
      "40 M\n",
      "42 W\n",
      "47 M\n",
      "49 W\n",
      "54 M\n",
      "56 W\n",
      "61 M\n",
      "63 W\n",
      "68 M\n",
      "70 W\n",
      "75 M\n",
      "77 W\n",
      "82 M\n",
      "84 W\n",
      "89 M\n"
     ]
    }
   ],
   "source": [
    "for day in range(90):\n",
    "    if day % 7 == 0:\n",
    "        print (day, 'W')\n",
    "    elif (day + 2) % 7 == 0:\n",
    "        print(day, 'M')"
   ]
  },
  {
   "cell_type": "markdown",
   "id": "bd95b80b",
   "metadata": {},
   "source": [
    "# Para optimizar  necesitamos correr el programa dos veces. Encontramos todos los targets observable durante 90 dias y luego calculamos las efemerides de esos targets especificamente por 90 dias."
   ]
  },
  {
   "cell_type": "code",
   "execution_count": 182,
   "id": "502a93be",
   "metadata": {},
   "outputs": [],
   "source": [
    "observablePerNight = []"
   ]
  },
  {
   "cell_type": "code",
   "execution_count": 183,
   "id": "591e2f79",
   "metadata": {},
   "outputs": [
    {
     "name": "stderr",
     "output_type": "stream",
     "text": [
      "WARNING: TimeDeltaMissingUnitWarning: Numerical value without unit or explicit format passed to TimeDelta, assuming days [astropy.time.core]\n",
      "C:\\Users\\m1997\\.conda\\envs\\tfopFideos\\lib\\site-packages\\erfa\\core.py:4613: RuntimeWarning: invalid value encountered in ld\n",
      "  p1 = ufunc.ld(bm, p, q, e, em, dlim)\n",
      "C:\\Users\\m1997\\.conda\\envs\\tfopFideos\\lib\\site-packages\\erfa\\core.py:19005: RuntimeWarning: invalid value encountered in anp\n",
      "  c_retval = ufunc.anp(a)\n",
      "C:\\Users\\m1997\\.conda\\envs\\tfopFideos\\lib\\site-packages\\erfa\\core.py:4029: RuntimeWarning: invalid value encountered in atioq\n",
      "  aob, zob, hob, dob, rob = ufunc.atioq(ri, di, astrom)\n",
      "WARNING: TimeDeltaMissingUnitWarning: Numerical value without unit or explicit format passed to TimeDelta, assuming days [astropy.time.core]\n",
      "C:\\Users\\m1997\\.conda\\envs\\tfopFideos\\lib\\site-packages\\erfa\\core.py:4613: RuntimeWarning: invalid value encountered in ld\n",
      "  p1 = ufunc.ld(bm, p, q, e, em, dlim)\n",
      "C:\\Users\\m1997\\.conda\\envs\\tfopFideos\\lib\\site-packages\\erfa\\core.py:19005: RuntimeWarning: invalid value encountered in anp\n",
      "  c_retval = ufunc.anp(a)\n",
      "C:\\Users\\m1997\\.conda\\envs\\tfopFideos\\lib\\site-packages\\erfa\\core.py:4029: RuntimeWarning: invalid value encountered in atioq\n",
      "  aob, zob, hob, dob, rob = ufunc.atioq(ri, di, astrom)\n",
      "WARNING: TimeDeltaMissingUnitWarning: Numerical value without unit or explicit format passed to TimeDelta, assuming days [astropy.time.core]\n",
      "C:\\Users\\m1997\\.conda\\envs\\tfopFideos\\lib\\site-packages\\erfa\\core.py:4613: RuntimeWarning: invalid value encountered in ld\n",
      "  p1 = ufunc.ld(bm, p, q, e, em, dlim)\n",
      "C:\\Users\\m1997\\.conda\\envs\\tfopFideos\\lib\\site-packages\\erfa\\core.py:19005: RuntimeWarning: invalid value encountered in anp\n",
      "  c_retval = ufunc.anp(a)\n",
      "C:\\Users\\m1997\\.conda\\envs\\tfopFideos\\lib\\site-packages\\erfa\\core.py:4029: RuntimeWarning: invalid value encountered in atioq\n",
      "  aob, zob, hob, dob, rob = ufunc.atioq(ri, di, astrom)\n",
      "WARNING: TimeDeltaMissingUnitWarning: Numerical value without unit or explicit format passed to TimeDelta, assuming days [astropy.time.core]\n",
      "C:\\Users\\m1997\\.conda\\envs\\tfopFideos\\lib\\site-packages\\erfa\\core.py:4613: RuntimeWarning: invalid value encountered in ld\n",
      "  p1 = ufunc.ld(bm, p, q, e, em, dlim)\n",
      "C:\\Users\\m1997\\.conda\\envs\\tfopFideos\\lib\\site-packages\\erfa\\core.py:19005: RuntimeWarning: invalid value encountered in anp\n",
      "  c_retval = ufunc.anp(a)\n",
      "C:\\Users\\m1997\\.conda\\envs\\tfopFideos\\lib\\site-packages\\erfa\\core.py:4029: RuntimeWarning: invalid value encountered in atioq\n",
      "  aob, zob, hob, dob, rob = ufunc.atioq(ri, di, astrom)\n",
      "WARNING: TimeDeltaMissingUnitWarning: Numerical value without unit or explicit format passed to TimeDelta, assuming days [astropy.time.core]\n",
      "C:\\Users\\m1997\\.conda\\envs\\tfopFideos\\lib\\site-packages\\erfa\\core.py:4613: RuntimeWarning: invalid value encountered in ld\n",
      "  p1 = ufunc.ld(bm, p, q, e, em, dlim)\n",
      "C:\\Users\\m1997\\.conda\\envs\\tfopFideos\\lib\\site-packages\\erfa\\core.py:19005: RuntimeWarning: invalid value encountered in anp\n",
      "  c_retval = ufunc.anp(a)\n",
      "C:\\Users\\m1997\\.conda\\envs\\tfopFideos\\lib\\site-packages\\erfa\\core.py:4029: RuntimeWarning: invalid value encountered in atioq\n",
      "  aob, zob, hob, dob, rob = ufunc.atioq(ri, di, astrom)\n"
     ]
    }
   ],
   "source": [
    "y = 0\n",
    "date_input = '2022-11-28'\n",
    "date = date_input.split('-')\n",
    "\n",
    "while y < 5:\n",
    "    times = Time(datetime(int(date[0]), int(date[1]), int(date[2]), 23, 59, 0))+ y*u.day + np.linspace(-6, 9, 901)* u.hour\n",
    "    # Ahora se busca el momento donde el sol cruza los -18° de altitud desde la posicion en La Silla\n",
    "    laSilla = EarthLocation.from_geodetic(-70.7375, -29.2575,[2347])\n",
    "    sunPos = get_sun(times)\n",
    "    aaFrame = AltAz(obstime=times, location=laSilla)\n",
    "    aa_sunPos = sunPos.transform_to(aaFrame) \n",
    "    begin = np.argmax(aa_sunPos.alt.value < -12)\n",
    "    end = np.argmax(np.flip(aa_sunPos.alt).value < -18)\n",
    "    twiBegin = times[begin]\n",
    "    twiEnd = np.flip(times)[end]\n",
    "    # Ahora que tenemos la hora de inicio y de termino del twilight, tenemos el tiempo para calcular efemerides de luna y targets.\n",
    "    obsTimeDelta = twiEnd + .5*u.hour - (twiBegin - .5*u.hour)\n",
    "    obsTimeDelta = TimeDelta((obsTimeDelta.value * 24 // 1) / 24)\n",
    "    steps = int(np.round(obsTimeDelta.sec,0) / 60)\n",
    "    obsDateTime = twiBegin - .5*u.hour + obsTimeDelta * np.linspace(0, 1, steps+1)\n",
    "    # Marco AltAz de La Silla\n",
    "    aaFrame = AltAz(obstime=obsDateTime, location=laSilla)\n",
    "    #\n",
    "    # Efemerides Luna\n",
    "    moonPos = get_moon(obsDateTime, laSilla)\n",
    "    aa_moonPos = moonPos.transform_to(aaFrame) \n",
    "    \n",
    "    aa_targetIndex = np.array([])\n",
    "    x = 0\n",
    "    while x < len(TOI_df):\n",
    "        targetPos = SkyCoord(ra=TOI_df['RA'].iloc[x], dec=TOI_df['Dec'].iloc[x], \n",
    "                             distance=TOI_df['Stellar Distance (pc)'].iloc[x] ,\n",
    "                             unit=(u.hourangle, u.deg, u.pc), obstime=obsDateTime)\n",
    "        with erfa_astrom.set(ErfaAstromInterpolator(steps * u.min)): \n",
    "            temp = targetPos.transform_to(aaFrame)\n",
    "            if np.array([temp.alt.value>=50]).sum() >= 45:\n",
    "                aa_targetIndex = np.append(aa_targetIndex, x)\n",
    "        x += 1 \n",
    "    observable_df = pd.DataFrame(columns=TOI_og.columns)\n",
    "    x = 0\n",
    "    while x < len(aa_targetIndex):\n",
    "        index = int(aa_targetIndex[x])\n",
    "        observable_df = pd.concat([observable_df, TOI_og.iloc[index:index+1]])\n",
    "        x += 1\n",
    "    observablePerNight.append(observable_df)\n",
    "    y += 1"
   ]
  },
  {
   "cell_type": "code",
   "execution_count": 26,
   "id": "55c41a82",
   "metadata": {},
   "outputs": [],
   "source": [
    "with open('dontObserve.txt', 'r') as f:\n",
    "     lines = [line.rstrip() for line in f]"
   ]
  },
  {
   "cell_type": "code",
   "execution_count": 32,
   "id": "290d748a",
   "metadata": {},
   "outputs": [
    {
     "data": {
      "text/plain": [
       "False"
      ]
     },
     "execution_count": 32,
     "metadata": {},
     "output_type": "execute_result"
    }
   ],
   "source": [
    "'TIC435974352' in lines"
   ]
  },
  {
   "cell_type": "code",
   "execution_count": 54,
   "id": "d6e55db8",
   "metadata": {},
   "outputs": [
    {
     "data": {
      "image/png": "[encoded data removed]",
      "text/plain": [
       "<Figure size 640x480 with 1 Axes>"
      ]
     },
     "metadata": {},
     "output_type": "display_data"
    }
   ],
   "source": [
    "plt.plot(np.arange(len(TOI_df['Period (days)'][TOI_df['Period (days)'] > 0])), TOI_df['Period (days)'][TOI_df['Period (days)'] > 0])\n",
    "plt.axhline(10)\n",
    "plt.ylim(0,100)\n",
    "plt.show()"
   ]
  },
  {
   "cell_type": "code",
   "execution_count": 24,
   "id": "d29b54b1",
   "metadata": {},
   "outputs": [
    {
     "name": "stdout",
     "output_type": "stream",
     "text": [
      "True\n",
      "False\n",
      "True\n",
      "False\n",
      "True\n",
      "True\n",
      "False\n",
      "True\n",
      "False\n",
      "True\n",
      "False\n",
      "True\n",
      "True\n",
      "False\n",
      "True\n",
      "False\n",
      "True\n",
      "False\n",
      "True\n",
      "True\n",
      "False\n",
      "True\n",
      "False\n",
      "True\n",
      "False\n",
      "True\n",
      "True\n",
      "False\n",
      "True\n",
      "False\n",
      "True\n",
      "False\n",
      "True\n",
      "True\n",
      "False\n",
      "True\n",
      "False\n",
      "True\n",
      "False\n",
      "True\n",
      "True\n",
      "False\n",
      "True\n",
      "False\n",
      "True\n",
      "False\n",
      "True\n",
      "True\n",
      "False\n",
      "True\n",
      "False\n",
      "True\n",
      "False\n",
      "True\n",
      "True\n",
      "False\n",
      "True\n",
      "False\n",
      "True\n",
      "False\n",
      "True\n",
      "True\n",
      "False\n",
      "True\n",
      "False\n",
      "True\n",
      "False\n",
      "True\n",
      "True\n",
      "False\n",
      "True\n",
      "False\n",
      "True\n",
      "False\n",
      "True\n",
      "True\n",
      "False\n",
      "True\n",
      "False\n",
      "True\n",
      "False\n",
      "True\n",
      "True\n",
      "False\n",
      "True\n",
      "False\n",
      "True\n",
      "False\n",
      "True\n",
      "True\n"
     ]
    }
   ],
   "source": [
    "for day in range(90):\n",
    "   print((day % 7 == 0 or (day + 2) % 7 == 0 or (day + 5) % 7 == 0) or (day + 3) % 7 == 0)"
   ]
  },
  {
   "cell_type": "code",
   "execution_count": 19,
   "id": "e07dfa7e",
   "metadata": {},
   "outputs": [
    {
     "name": "stdout",
     "output_type": "stream",
     "text": [
      "0\n",
      "1\n",
      "2\n",
      "3\n",
      "4\n",
      "5\n",
      "6\n",
      "7\n",
      "8\n",
      "9\n",
      "10\n",
      "11\n",
      "12\n",
      "13\n",
      "14\n",
      "15\n",
      "16\n",
      "17\n",
      "18\n",
      "19\n",
      "20\n",
      "21\n",
      "22\n",
      "23\n",
      "24\n",
      "25\n",
      "26\n",
      "27\n",
      "28\n",
      "29\n",
      "30\n",
      "31\n",
      "32\n",
      "33\n",
      "34\n",
      "35\n",
      "36\n",
      "37\n",
      "38\n",
      "39\n",
      "40\n",
      "41\n",
      "42\n",
      "43\n",
      "44\n",
      "45\n",
      "46\n",
      "47\n",
      "48\n",
      "49\n",
      "50\n",
      "51\n",
      "52\n",
      "53\n",
      "54\n",
      "55\n",
      "56\n",
      "57\n",
      "58\n",
      "59\n",
      "60\n",
      "61\n",
      "62\n",
      "63\n",
      "64\n",
      "65\n",
      "66\n",
      "67\n",
      "68\n",
      "69\n",
      "70\n",
      "71\n",
      "72\n",
      "73\n",
      "74\n",
      "75\n",
      "76\n",
      "77\n",
      "78\n",
      "79\n",
      "80\n",
      "81\n",
      "82\n",
      "83\n",
      "84\n",
      "85\n",
      "86\n",
      "87\n",
      "88\n",
      "89\n"
     ]
    }
   ],
   "source": [
    "for i in range(90):\n",
    "    print(i)"
   ]
  }
 ],
 "metadata": {
  "kernelspec": {
   "display_name": "Python 3 (ipykernel)",
   "language": "python",
   "name": "python3"
  },
  "language_info": {
   "codemirror_mode": {
    "name": "ipython",
    "version": 3
   },
   "file_extension": ".py",
   "mimetype": "text/x-python",
   "name": "python",
   "nbconvert_exporter": "python",
   "pygments_lexer": "ipython3",
   "version": "3.10.8"
  }
 },
 "nbformat": 4,
 "nbformat_minor": 5
}
